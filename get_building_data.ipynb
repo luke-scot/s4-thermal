{
 "cells": [
  {
   "cell_type": "markdown",
   "metadata": {
    "colab_type": "text",
    "id": "view-in-github"
   },
   "source": [
    "<a href=\"https://colab.research.google.com/github/luke-scot/s4-thermal/blob/main/buildingProperties.ipynb\" target=\"_parent\"><img src=\"https://colab.research.google.com/assets/colab-badge.svg\" alt=\"Open In Colab\"/></a>"
   ]
  },
  {
   "cell_type": "markdown",
   "metadata": {
    "id": "qGy6tABHkS0O"
   },
   "source": [
    "# Buidling properties from OSM data\n",
    "\n",
    "This script takes geojson files from [Overpass for OSM](https://overpass-turbo.eu/#) and outputs a clickable .html map and a .csv data file which include the roof and facade areas of each building. Defaults are set for Cambridge University, but you can change the application to any location by changing the variables.\n",
    "\n",
    "To obtain a new input geojson, go to [Overpass](https://overpass-turbo.eu/#) and draw a bbox using the selection in the little list on the left. Then press run at the top right of the screen. Finally Export as a geojson. Then simply upload the geoJson to this Colab environment using the upload button in the left bar. \n",
    "\n",
    "Any problems let me know at lshc3@cam.ac.uk. Enjoy!"
   ]
  },
  {
   "cell_type": "code",
   "execution_count": null,
   "metadata": {
    "id": "II3RnkwPvXxP"
   },
   "outputs": [],
   "source": [
    "# Import packages\n",
    "%%capture\n",
    "%pip install geopandas gdown\n",
    "import geopandas as gpd\n",
    "import pandas as pd\n",
    "import folium\n",
    "import numpy as np\n",
    "import os"
   ]
  },
  {
   "cell_type": "code",
   "execution_count": null,
   "metadata": {
    "id": "2YwSLM9HUZYk"
   },
   "outputs": [],
   "source": [
    "# Define variables\n",
    "# Use geojson with all Cambridge building footprints (only use when necessary as\n",
    "# is large - otherwise go to Overpass and define your own geojson)\n",
    "allCambridge = True \n",
    "buildings = 'camBuildings.geojson' # If own geojson\n",
    "crs = 'EPSG:32631' # Coordinate system\n",
    "camUniRef = True # If using cambridge uni reference file\n",
    "refFile = 'camUniBuildings.csv' # Name of reference file if other than cam uni\n",
    "refsOnly = True # True means only outputs data for buildings contained in reference file\n",
    "floorHeight = 3  # Standard metres per floor\n",
    "unknownFloors = 2 # When floor number is unknown use this\n",
    "name = 'CambridgeUni' # Ouput file name "
   ]
  },
  {
   "cell_type": "code",
   "execution_count": null,
   "metadata": {
    "id": "PBOnULB_mW4P"
   },
   "outputs": [],
   "source": [
    "# Downloading default files if required\n",
    "if camUniRef: \n",
    "  ! gdown -O $refFile \"https://drive.google.com/uc?export=download&id=1eM8K5MO3FYJDAFz_9Po8UDKg9xD-uvH9\"\n",
    "if allCambridge:\n",
    "  ! gdown -O $buildings \"https://drive.google.com/uc?export=download&id=1gpEKjm6oSkBb6X-QdjYOskw9d6gMAPRS\"\n",
    "\n",
    "# Merging data from files into dataframe\n",
    "if os.path.isfile(refFile): # If reference file exists\n",
    "  refDf = pd.read_csv(refFile)\n",
    "  buildsGdf = gpd.read_file(buildings).to_crs(crs)\n",
    "  if refsOnly: gdf = pd.merge(buildsGdf, refDf, left_on='ref', right_on='Building Code')\n",
    "  else: gdf = pd.merge(buildsGdf, refDf, how='left', left_on='ref', right_on='Building Code')\n",
    "else: gdf = gpd.read_file(buildings).to_crs(crs) # If there is no reference file\n",
    "\n",
    "# This will show the first 5 rows of the dataframe\n",
    "gdf.head()"
   ]
  },
  {
   "cell_type": "code",
   "execution_count": null,
   "metadata": {
    "id": "ECakZF0kUr7Q"
   },
   "outputs": [],
   "source": [
    "# Calculating floor, area and facade values\n",
    "gdf['area'] = gdf.geometry.area\n",
    "if os.path.isfile(refFile): gdf['floors'] = [gdf.loc[i]['No. Floors'] if 'NaN' not in str(gdf.loc[i]['No. Floors']) else gdf.loc[i]['building:levels'] for i in range(len(gdf))]\n",
    "else: gdf['floors'] = gdf.loc[i]['building:levels']\n",
    "gdf['floors'].replace(to_replace=np.NaN, value=unknownFloors, inplace=True)\n",
    "gdf['facade'] = gdf['floors'].astype(int)*floorHeight*gdf.geometry.length\n",
    "gll = gdf[['Point' not in str(type(gdf.loc[i].geometry)) for i in range(len(gdf))]].reindex().to_crs('epsg:4326')\n",
    "\n",
    "# Plotting map\n",
    "m = folium.Map(location=[gll.geometry[int(len(gll)/2)].bounds[1], gll.geometry[int(len(gll)/2)].bounds[0]], zoom_start=13)\n",
    "for i, pt in enumerate(gll.geometry.centroid):\n",
    "  if os.path.isfile(refFile):\n",
    "    html = \"Area: {:.4f} m2<br> Facade: {:.4f} m2<br> Floors: {:.0f}<br> index: {}<br> Name: {}<br> Address: {} {}<br> Ref Name: {} <br> Ref Address: {} <br> Ref Date: {}\".format(gll.loc[i].area, gll.loc[i].facade,\n",
    "                                                                                                                                                                gll.loc[i].floors, i, gll.loc[i]['name'],\n",
    "                                                                                                                                                                gll.loc[i]['addr:housenumber'], gll.loc[i]['addr:street'],\n",
    "                                                                                                                                                                gll.loc[i]['Building Name'], gll.loc[i]['Address'], gll.loc[i]['Date Built'])\n",
    "  else: html = \"Area: {:.4f} m2<br> Facade: {:.4f} m2<br> Floors: {:.0f}<br> index: {}<br> Name: {}<br> Address: {} {}\".format(gll.loc[i].area, gll.loc[i].facade, gll.loc[i].floors, i, gll.loc[i]['name'], gll.loc[i]['addr:housenumber'], gll.loc[i]['addr:street'])\n",
    "           \n",
    "  iframe = folium.IFrame(html=html, width=200, height=100)\n",
    "  folium.Marker([pt.y, pt.x], popup=folium.Popup(iframe)).add_to(m)\n",
    "m"
   ]
  },
  {
   "cell_type": "code",
   "execution_count": null,
   "metadata": {
    "id": "rzacq2PWcmO_"
   },
   "outputs": [],
   "source": [
    "# Save map to html and data to csv\n",
    "m.save(name+'.html')\n",
    "gll['lon'], gll['lat'] = gll['geometry'].centroid.x, gll['geometry'].centroid.y\n",
    "if os.path.isfile(refFile):\n",
    "  gll[['lat','lon','name','Building Name','addr:housenumber','addr:street','addr:postcode','Address','Date Built','area','facade','floors']].to_csv(name+'.csv')\n",
    "else: gll[['lat','lon','name','addr:housenumber','addr:street','addr:postcode','area','facade','floors']].to_csv(name+'.csv')"
   ]
  }
 ],
 "metadata": {
  "colab": {
   "authorship_tag": "ABX9TyPX2thhRKRfbbBRghfDySST",
   "include_colab_link": true,
   "name": "buildingProperties.ipynb",
   "provenance": []
  },
  "kernelspec": {
   "display_name": "Python 3",
   "language": "python",
   "name": "python3"
  },
  "language_info": {
   "codemirror_mode": {
    "name": "ipython",
    "version": 3
   },
   "file_extension": ".py",
   "mimetype": "text/x-python",
   "name": "python",
   "nbconvert_exporter": "python",
   "pygments_lexer": "ipython3",
   "version": "3.7.10"
  }
 },
 "nbformat": 4,
 "nbformat_minor": 4
}
